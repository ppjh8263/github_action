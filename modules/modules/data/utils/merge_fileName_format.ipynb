{
 "cells": [
  {
   "cell_type": "code",
   "execution_count": 1,
   "id": "7cc6129a-7a3e-44d6-b143-dc1e8e59eaeb",
   "metadata": {},
   "outputs": [],
   "source": [
    "# !pwd"
   ]
  },
  {
   "cell_type": "code",
   "execution_count": 2,
   "id": "ff07d5b1-4158-4e20-9afe-c5990bc9044c",
   "metadata": {},
   "outputs": [],
   "source": [
    "# idcar2017 datasets을 icdar2015와 통합\n",
    "# 파일 명 변경(index + 1000)\n",
    "import os\n",
    "import shutil"
   ]
  },
  {
   "cell_type": "code",
   "execution_count": 3,
   "id": "a4b7b89a-4b9b-4357-a63c-1b1abbefebf0",
   "metadata": {},
   "outputs": [],
   "source": [
    "datasets_path = '/opt/ml/project/models/datasets'   # 파일들 위치\n",
    "train_gts1 = datasets_path + '/train_gts_icdar17_OEpos' # 합칠 데이터 Grount Truth 1 - 더 큰 데이터 셋\n",
    "train_images1 = datasets_path + '/train_images_icdar17_OEpos' # 합칠 데이터 Images 1 - 더 큰 데이터 셋\n",
    "train_gts2 = datasets_path + '/train_gts_icdar15_OEpos' # 합칠 데이터 Grount Truth 2 - 더 작은 데이터 셋\n",
    "train_images2 = datasets_path + '/train_images_icdar15_OEpos' # 합칠 데이터 Images 2 - 더 작은 데이터 셋\n",
    "new_train_gts = datasets_path + '/train_gts_OEpos'            # 합쳐서 GT 저장할 위치\n",
    "new_train_images = datasets_path + '/train_images_OEpos'      # 합쳐서 img 저장할 위치"
   ]
  },
  {
   "cell_type": "code",
   "execution_count": 4,
   "id": "8ba0a6df-bfc0-4e3b-805f-9003ad4816d1",
   "metadata": {},
   "outputs": [
    {
     "data": {
      "text/plain": [
       "'/opt/ml/project/models/datasets/train_images_OEpos'"
      ]
     },
     "execution_count": 4,
     "metadata": {},
     "output_type": "execute_result"
    }
   ],
   "source": [
    "# icdar 2017 복사\n",
    "shutil.copytree(train_gts1, new_train_gts)\n",
    "shutil.copytree(train_images1 , new_train_images)"
   ]
  },
  {
   "cell_type": "code",
   "execution_count": 5,
   "id": "643f4b4a-1c9d-4dca-b8e4-0f71cbd8f3bd",
   "metadata": {},
   "outputs": [],
   "source": [
    "# ground truth(gt)\n",
    "old_file_path = train_gts2\n",
    "old_file_names = os.listdir(old_file_path)\n",
    "new_file_path = new_train_gts\n",
    "\n",
    "if not os.path.isdir(new_file_path):\n",
    "    os.makedirs(new_file_path)\n",
    "\n",
    "for old_name in old_file_names:\n",
    "    try:\n",
    "        new_idx = int(old_name.split('_')[-1].split('.')[0]) + 10000\n",
    "    except:\n",
    "        print(old_name)\n",
    "        continue\n",
    "    new_name = 'gt_img_'+str(new_idx)+'.txt'\n",
    "    old_src = os.path.join(old_file_path, old_name)\n",
    "    new_src = os.path.join(new_file_path, new_name)\n",
    "    shutil.copyfile(old_src, new_src)\n",
    "    # print(old_src, new_src)"
   ]
  },
  {
   "cell_type": "code",
   "execution_count": 6,
   "id": "e63d0343-bc98-48d4-b95b-6b7e8a9a1c21",
   "metadata": {},
   "outputs": [],
   "source": [
    "# image names\n",
    "old_file_path = train_images2\n",
    "old_file_names = os.listdir(old_file_path)\n",
    "new_file_path = new_train_images\n",
    "\n",
    "if not os.path.isdir(new_file_path):\n",
    "    os.makedirs(new_file_path)\n",
    "\n",
    "for old_name in old_file_names:\n",
    "    try:\n",
    "        new_idx = int(old_name.split('_')[-1].split('.')[0]) + 10000\n",
    "        new_name = 'img_'+str(new_idx)+'.jpg'\n",
    "        old_src = os.path.join(old_file_path, old_name)\n",
    "        new_src = os.path.join(new_file_path, new_name)\n",
    "        shutil.copyfile(old_src, new_src)\n",
    "    except:\n",
    "        print(old_name)\n",
    "        continue\n",
    "    # print(old_src, new_src)"
   ]
  }
 ],
 "metadata": {
  "kernelspec": {
   "display_name": "lightweight",
   "language": "python",
   "name": "lightweight"
  },
  "language_info": {
   "codemirror_mode": {
    "name": "ipython",
    "version": 3
   },
   "file_extension": ".py",
   "mimetype": "text/x-python",
   "name": "python",
   "nbconvert_exporter": "python",
   "pygments_lexer": "ipython3",
   "version": "3.7.11"
  }
 },
 "nbformat": 4,
 "nbformat_minor": 5
}
