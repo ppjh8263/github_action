{
 "cells": [
  {
   "cell_type": "code",
   "execution_count": 1,
   "id": "c1f7d12e-b770-4879-b41c-4a51508ef911",
   "metadata": {},
   "outputs": [],
   "source": [
    "# icdar17 dataset 중에서 \"Latin & codec에 정의된 문자\"인 데이터만 추출"
   ]
  },
  {
   "cell_type": "code",
   "execution_count": 2,
   "id": "9a8a00c7-1753-44ea-9b23-33d6bee17872",
   "metadata": {},
   "outputs": [],
   "source": [
    "import os\n",
    "import shutil\n",
    "import glob\n",
    "import re"
   ]
  },
  {
   "cell_type": "code",
   "execution_count": 3,
   "id": "7c216fdc-e570-4f2d-8195-0c059a1e7491",
   "metadata": {},
   "outputs": [],
   "source": [
    "datasets_path = '/opt/ml/project/models/datasets'"
   ]
  },
  {
   "cell_type": "code",
   "execution_count": 4,
   "id": "8fa847ec-c50a-4012-bee0-746fa6ae893c",
   "metadata": {},
   "outputs": [],
   "source": [
    "file_path = datasets_path + '/train_gts_icdar17'\n",
    "file_names = sorted(os.listdir(file_path))\n",
    "image_path = datasets_path + '/train_images_icdar17'"
   ]
  },
  {
   "cell_type": "code",
   "execution_count": 5,
   "id": "2a1b21c7-df83-49b8-a6f8-eeece4bf67f9",
   "metadata": {},
   "outputs": [],
   "source": [
    "new_file_path = file_path + '_alphabet'\n",
    "new_image_path = image_path + '_alphabet'\n",
    "if not os.path.isdir(new_file_path):\n",
    "    os.makedirs(new_file_path)\n",
    "if not os.path.isdir(new_image_path):\n",
    "    os.makedirs(new_image_path)"
   ]
  },
  {
   "cell_type": "code",
   "execution_count": 6,
   "id": "6876d355",
   "metadata": {},
   "outputs": [
    {
     "name": "stdout",
     "output_type": "stream",
     "text": [
      "  0123456789abcdefghijklmnopqrstuvwxyzABCDEFGHIJKLMNOPQRSTUVWXYZ@!#$%&'()+,-.·/:;=?´_~*°<>\"'[]\\\n"
     ]
    }
   ],
   "source": [
    "with open('/opt/ml/project/models/modules/utils/codec.txt', 'r') as f:\n",
    "    keys = f.readlines()[0]\n",
    "    print(keys)\n",
    "regular_char = re.compile(r\"[ 0-9a-zA-Z@!#$%&'()+,-.·/:;=?´_~*°<>\\\"\\'\\[\\]]\")"
   ]
  },
  {
   "cell_type": "code",
   "execution_count": 7,
   "id": "f9db4fa8-6ac9-487b-a016-834c2a3e1365",
   "metadata": {},
   "outputs": [
    {
     "name": "stdout",
     "output_type": "stream",
     "text": [
      ".ipynb_checkpoints\n"
     ]
    }
   ],
   "source": [
    "for file_name in file_names:\n",
    "    src = os.path.join(file_path, file_name)\n",
    "    try:\n",
    "        with open(src, 'r', encoding='utf-8') as f:\n",
    "            new_texts = ''\n",
    "            lines = f.readlines()\n",
    "            eng_exist = False\n",
    "            for line in lines:\n",
    "                texts = line[:-1].split(',')\n",
    "                bbox = ','.join(texts[:8])\n",
    "                script = texts[8]\n",
    "                trans = ','.join(texts[9:])\n",
    "                \n",
    "                possible_word = False\n",
    "                if script == 'Latin':\n",
    "                    possible_word = True\n",
    "                    for char in trans:\n",
    "                        if not regular_char.match(char):\n",
    "                            possible_word = False\n",
    "                \n",
    "                if trans == '':\n",
    "                    continue\n",
    "                elif possible_word:\n",
    "                    eng_exist = True\n",
    "                    new_texts += bbox+','+trans+'\\n'\n",
    "                else:\n",
    "                    new_texts += bbox+',###\\n'\n",
    "    except:\n",
    "        print(file_name)\n",
    "        continue\n",
    "    if eng_exist:\n",
    "        new_src = os.path.join(new_file_path, file_name)\n",
    "        with open(new_src,'w') as f:\n",
    "            f.write(new_texts)\n",
    "        image_name = 'img_' + file_name.split('_')[2].split('.')[0]+'.*'\n",
    "        image_name = glob.glob(image_path+'/'+image_name)[0].split('/')[-1]\n",
    "        image_src = os.path.join(image_path, image_name)\n",
    "        new_image_src = os.path.join(new_image_path, image_name)\n",
    "        shutil.copyfile(image_src, new_image_src)\n",
    "        # print(image_src, new_image_src)"
   ]
  }
 ],
 "metadata": {
  "kernelspec": {
   "display_name": "lightweight",
   "language": "python",
   "name": "lightweight"
  },
  "language_info": {
   "codemirror_mode": {
    "name": "ipython",
    "version": 3
   },
   "file_extension": ".py",
   "mimetype": "text/x-python",
   "name": "python",
   "nbconvert_exporter": "python",
   "pygments_lexer": "ipython3",
   "version": "3.7.11"
  }
 },
 "nbformat": 4,
 "nbformat_minor": 5
}
